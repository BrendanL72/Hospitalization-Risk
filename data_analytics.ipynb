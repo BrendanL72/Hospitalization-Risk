{
  "nbformat": 4,
  "nbformat_minor": 0,
  "metadata": {
    "colab": {
      "provenance": [],
      "authorship_tag": "ABX9TyMQjUEchnAGsjNt6mvmpxt3",
      "include_colab_link": true
    },
    "kernelspec": {
      "name": "python3",
      "display_name": "Python 3"
    },
    "language_info": {
      "name": "python"
    }
  },
  "cells": [
    {
      "cell_type": "markdown",
      "metadata": {
        "id": "view-in-github",
        "colab_type": "text"
      },
      "source": [
        "<a href=\"https://colab.research.google.com/github/BrendanL72/Hospitalization-Risk/blob/main/data_analytics.ipynb\" target=\"_parent\"><img src=\"https://colab.research.google.com/assets/colab-badge.svg\" alt=\"Open In Colab\"/></a>"
      ]
    },
    {
      "cell_type": "code",
      "execution_count": null,
      "metadata": {
        "colab": {
          "base_uri": "https://localhost:8080/"
        },
        "id": "AlbiHsu11iwq",
        "outputId": "18657293-0296-4af8-c8f3-cee76d529472"
      },
      "outputs": [
        {
          "output_type": "stream",
          "name": "stdout",
          "text": [
            "Mounted at /content/gdrive\n"
          ]
        }
      ],
      "source": [
        "import pandas as pd\n",
        "from google.colab import drive\n",
        "drive.mount('/content/gdrive')\n",
        "\n",
        "df = pd.read_excel('/content/gdrive/My Drive/Colab Notebooks/Data_for_Outreach_Health_UTD 1.xlsx')"
      ]
    },
    {
      "cell_type": "code",
      "source": [
        "df.nunique()"
      ],
      "metadata": {
        "colab": {
          "base_uri": "https://localhost:8080/"
        },
        "id": "BCvlqAAk1oGf",
        "outputId": "023ca2d5-c65a-42f5-bb9a-e755b187597e"
      },
      "execution_count": null,
      "outputs": [
        {
          "output_type": "execute_result",
          "data": {
            "text/plain": [
              "record_id              892361\n",
              "name                       38\n",
              "transition_type             8\n",
              "group_id                    9\n",
              "timestamp              652248\n",
              "room_id                    67\n",
              "room_type                  13\n",
              "device_id                 129\n",
              "duration_in_minutes     43593\n",
              "dtype: int64"
            ]
          },
          "metadata": {},
          "execution_count": 3
        }
      ]
    },
    {
      "cell_type": "code",
      "source": [
        "dfadl = pd.read_excel('/content/gdrive/My Drive/Colab Notebooks/MobileEdgeTaskCodeVisitSummaryJanuary-AugustSortedAfterDeIdentify.xlsx')\n",
        "dfadl.nunique()"
      ],
      "metadata": {
        "colab": {
          "base_uri": "https://localhost:8080/"
        },
        "id": "qK1zR9vFDAIV",
        "outputId": "08f73b4b-15d6-4a98-b813-e4f1db17d796"
      },
      "execution_count": null,
      "outputs": [
        {
          "output_type": "execute_result",
          "data": {
            "text/plain": [
              "DeIdentify ID               210\n",
              "ProviderID                    3\n",
              "PayerGroup                    6\n",
              "Caregiver ID                191\n",
              "VisitDuration               307\n",
              "ServiceTypeName              15\n",
              "VisitDate                   243\n",
              "ActualTimeIn                412\n",
              "ActualTimeOut               390\n",
              "txtBreakTimesValue            0\n",
              "VisitDate2                  243\n",
              "ScheduledTimeIn             148\n",
              "ScheduledTimeOut            148\n",
              "TaskCodeGroupName            60\n",
              "HasBeenDone                   2\n",
              "Reason                        7\n",
              "Comments                   2490\n",
              "NoSignature                   2\n",
              "RectangleVoiceCaptured        1\n",
              "SignatureDate             22726\n",
              "dtype: int64"
            ]
          },
          "metadata": {},
          "execution_count": 3
        }
      ]
    },
    {
      "cell_type": "code",
      "source": [
        "dfcrf = pd.read_excel('/content/gdrive/My Drive/Colab Notebooks/ClientReviewFormRemovingData.xlsx')\n",
        "dfcrf.nunique()"
      ],
      "metadata": {
        "id": "NgImFyhZIS4s",
        "outputId": "5206754d-d241-4bcd-8372-046f53c86461",
        "colab": {
          "base_uri": "https://localhost:8080/"
        }
      },
      "execution_count": null,
      "outputs": [
        {
          "output_type": "execute_result",
          "data": {
            "text/plain": [
              "Time                                               369\n",
              "Masked Client ID                                   167\n",
              "Date of Review                                     144\n",
              "COVID -19                                            2\n",
              "Which Review is this                                 3\n",
              "                                                  ... \n",
              "Details of Schedule changes                         20\n",
              "Are you happy with the services being provided?      2\n",
              "If No make notes here                                1\n",
              "Any Questions or Concerns?                          98\n",
              "Case Manager Notes                                 243\n",
              "Length: 67, dtype: int64"
            ]
          },
          "metadata": {},
          "execution_count": 10
        }
      ]
    }
  ]
}