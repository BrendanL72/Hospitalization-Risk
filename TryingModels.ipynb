{
 "cells": [
  {
   "cell_type": "code",
   "execution_count": 251,
   "metadata": {},
   "outputs": [],
   "source": [
    "import pandas as pd\n",
    "import numpy as np\n",
    "#import seaborn as sns\n",
    "import math\n",
    "import os\n",
    "import datetime\n",
    "import re\n",
    "#from google.colab import drive\n",
    "import seaborn as sns\n",
    "import matplotlib.pyplot as plt\n",
    "#drive.mount('/content/drive')\n",
    "from sklearn.model_selection import train_test_split, GridSearchCV\n",
    "from sklearn.ensemble import BaggingClassifier\n",
    "from sklearn.metrics import confusion_matrix, classification_report, plot_confusion_matrix\n",
    "from sklearn.svm import SVC\n",
    "from sklearn.tree import DecisionTreeClassifier\n",
    "from sklearn.neighbors import KNeighborsClassifier\n",
    "import tqdm\n",
    "import scipy.stats as stats"
   ]
  },
  {
   "cell_type": "code",
   "execution_count": 112,
   "metadata": {},
   "outputs": [],
   "source": [
    "freqs = pd.read_csv('./data/frequencies.csv')"
   ]
  },
  {
   "cell_type": "code",
   "execution_count": 161,
   "metadata": {
    "scrolled": false
   },
   "outputs": [],
   "source": [
    "numberRe = re.compile('[0-9]+')\n",
    "noneRe = re.compile('None')\n",
    "def daysStrToInt(dStr):\n",
    "    if isinstance(dStr, str):\n",
    "        if numberRe.match(dStr):\n",
    "            return int(dStr.split(' ')[0])\n",
    "        elif noneRe.match(dStr):\n",
    "            return None\n",
    "    return dStr\n",
    "\n",
    "freqs['hospDistance'] = freqs['hospDistance'].transform(daysStrToInt)"
   ]
  },
  {
   "cell_type": "code",
   "execution_count": 162,
   "metadata": {},
   "outputs": [],
   "source": [
    "x = freqs.drop(columns=['hasHospitilization', 'hospDistance'])\n",
    "y = freqs['hasHospitilization']\n",
    "d = freqs['hospDistance']"
   ]
  },
  {
   "cell_type": "code",
   "execution_count": 132,
   "metadata": {},
   "outputs": [],
   "source": [
    "x_train, x_test, y_train, y_test = train_test_split(x, y, test_size=.25, random_state=15)"
   ]
  },
  {
   "cell_type": "code",
   "execution_count": 266,
   "metadata": {},
   "outputs": [
    {
     "data": {
      "text/plain": [
       "BaggingClassifier(base_estimator=SVC(kernel='linear'), random_state=15)"
      ]
     },
     "execution_count": 266,
     "metadata": {},
     "output_type": "execute_result"
    }
   ],
   "source": [
    "#model = SVC(kernel='poly', C=10, class_weight='balanced')\n",
    "#model = SVC(kernel='poly', C=1, class_weight='balanced')\n",
    "#model = SVC(kernel='linear', C=10, class_weight='balanced')\n",
    "#model = SVC(kernel='linear', C=1, class_weight='balanced')\n",
    "#model = SVC(kernel='linear')\n",
    "#model = DecisionTreeClassifier(criterion='entropy')\n",
    "#model = KNeighborsClassifier(n_neighbors=5)\n",
    "model = BaggingClassifier(base_estimator=SVC(kernel='linear'), n_estimators=10, random_state=15)\n",
    "\n",
    "model.fit(x_train, y_train)"
   ]
  },
  {
   "cell_type": "code",
   "execution_count": 254,
   "metadata": {},
   "outputs": [],
   "source": [
    "pred = model.predict(x_test)\n",
    "#pred = model.predict(x)"
   ]
  },
  {
   "cell_type": "code",
   "execution_count": null,
   "metadata": {},
   "outputs": [],
   "source": [
    "#print(classification_report(y_test, pred))\n",
    "conf = confusion_matrix(y_true=y_test, y_pred=pred)\n",
    "plot_confusion_matrix(model, x_test, y_test)\n",
    "plot_confusion_matrix(model, x_test, y_test, normalize='true')"
   ]
  },
  {
   "cell_type": "code",
   "execution_count": 265,
   "metadata": {},
   "outputs": [
    {
     "name": "stdout",
     "output_type": "stream",
     "text": [
      "Precision: 0.7692307692307693\n",
      "Recall: 0.5357142857142857\n",
      "F1 Score: 0.6315789473684211\n"
     ]
    }
   ],
   "source": [
    "precision = conf[1,1]/sum(conf[:,1])\n",
    "recall = conf[1,1]/sum(conf[1])\n",
    "f1Score = 2/(1/precision + 1/recall)\n",
    "\n",
    "#Looking for high recall\n",
    "print(f'Precision: {precision}\\nRecall: {recall}\\nF1 Score: {f1Score}')"
   ]
  },
  {
   "cell_type": "code",
   "execution_count": 201,
   "metadata": {},
   "outputs": [
    {
     "name": "stdout",
     "output_type": "stream",
     "text": [
      "              precision    recall  f1-score   support\n",
      "\n",
      "         0.0       1.00      1.00      1.00     13926\n",
      "         1.0       0.83      0.70      0.76        56\n",
      "\n",
      "    accuracy                           1.00     13982\n",
      "   macro avg       0.91      0.85      0.88     13982\n",
      "weighted avg       1.00      1.00      1.00     13982\n",
      "\n"
     ]
    }
   ],
   "source": [
    "print(classification_report(y_test, pred))"
   ]
  },
  {
   "cell_type": "code",
   "execution_count": 258,
   "metadata": {},
   "outputs": [],
   "source": [
    "def computeDistance(x_vals, model):\n",
    "    p = model.decision_function(x_vals)\n",
    "    #w_norm = np.linalg.norm(model.coef_)\n",
    "    #dist = p / w_norm\n",
    "    dist = p\n",
    "    return pd.Series(data=dist)"
   ]
  },
  {
   "cell_type": "code",
   "execution_count": 259,
   "metadata": {},
   "outputs": [],
   "source": [
    "#dist = computeDistance(x_train, model)\n",
    "dist = computeDistance(x, model)\n",
    "graphData = []\n",
    "step = 20\n",
    "boundary = min(dist)\n",
    "rng = max(dist)-boundary\n",
    "for i in range(0,1+step):\n",
    "    v = boundary+(i/step)*rng\n",
    "    # nope # eq included so that 0 and 1 are caught\n",
    "    #print(f'v: {v}, p: {predVal}')\n",
    "    sub = dist.loc[(dist >= v) & (dist < v+rng/step)]\n",
    "    a = {'Prob': v, 'Density': len(sub)}\n",
    "    #print(graphData)\n",
    "    graphData.append(a)\n",
    "graphData = pd.DataFrame(data=graphData)\n",
    "#graphData = graphData.astype(float)"
   ]
  },
  {
   "cell_type": "code",
   "execution_count": 120,
   "metadata": {},
   "outputs": [],
   "source": [
    "percentile = stats.norm(dist.mean(), dist.std())\n",
    "g = pd.DataFrame()\n",
    "g.insert(0, 'x', dist)\n",
    "g.insert(1, 'y', percentile.cdf(dist))"
   ]
  },
  {
   "cell_type": "code",
   "execution_count": 141,
   "metadata": {},
   "outputs": [],
   "source": [
    "g = pd.DataFrame()\n",
    "g.insert(0, 'x', sorted(dist))\n",
    "pct = []\n",
    "for i, v in g['x'].items():\n",
    "    pct.append(i/len(g['x']))\n",
    "g.insert(1, 'y', pct)"
   ]
  },
  {
   "cell_type": "code",
   "execution_count": null,
   "metadata": {},
   "outputs": [],
   "source": [
    "g = pd.DataFrame()\n",
    "g.insert(0, 'x', dist)\n",
    "#g.insert(1, 'y', d.iloc[x_train.index])\n",
    "g.insert(1, 'y', d.iloc[x.index])"
   ]
  },
  {
   "cell_type": "code",
   "execution_count": null,
   "metadata": {},
   "outputs": [],
   "source": [
    "plt.figure(figsize=(10,5))\n",
    "#sns.lineplot(x='x',y='y',data=g)\n",
    "plt.xlim(-1, 1)\n",
    "sns.scatterplot(x='x',y='y',data=g,alpha=0.5)"
   ]
  },
  {
   "cell_type": "code",
   "execution_count": 103,
   "metadata": {},
   "outputs": [
    {
     "name": "stdout",
     "output_type": "stream",
     "text": [
      "0.348091457454164% positives\n"
     ]
    }
   ],
   "source": [
    "print(f'{(len(g[\"x\"].loc[g[\"x\"] > 0])/len(g[\"x\"]))*100}% positives')"
   ]
  },
  {
   "cell_type": "code",
   "execution_count": 147,
   "metadata": {},
   "outputs": [
    {
     "data": {
      "text/plain": [
       "RangeIndex(start=0, stop=41943, step=1)"
      ]
     },
     "execution_count": 147,
     "metadata": {},
     "output_type": "execute_result"
    }
   ],
   "source": [
    "dist.index"
   ]
  },
  {
   "cell_type": "code",
   "execution_count": 168,
   "metadata": {},
   "outputs": [
    {
     "data": {
      "text/plain": [
       "array([  0.,   1.,   2.,   3.,   4.,   5.,   6.,   7.,   8.,   9.,  10.,\n",
       "        11.,  12.,  13.,  14.,  15.,  16.,  17.,  18.,  19.,  20.,  21.,\n",
       "        22.,  23.,  24.,  25.,  26.,  27.,  28.,  29.,  30.,  31.,  32.,\n",
       "        33.,  34.,  35.,  36.,  37.,  38.,  39.,  40.,  41.,  42.,  43.,\n",
       "        44.,  45.,  46.,  47.,  48.,  49.,  50.,  51.,  52.,  53.,  54.,\n",
       "        55.,  56.,  57.,  58.,  59.,  60.,  61.,  62.,  63.,  64.,  65.,\n",
       "        66.,  67.,  68.,  69.,  70.,  71.,  72.,  73.,  74.,  75.,  76.,\n",
       "        77.,  78.,  79.,  80.,  81.,  82.,  83.,  84.,  85.,  86.,  87.,\n",
       "        88.,  89.,  90.,  91.,  92.,  93.,  94.,  95.,  96.,  97.,  98.,\n",
       "        99., 100., 101., 102., 103., 104., 105., 106., 107., 108., 109.,\n",
       "       110., 111., 112., 113., 114., 115., 116., 117., 118., 119., 120.,\n",
       "       121., 122., 123., 124., 125., 126., 127., 128., 129., 130., 131.,\n",
       "       132., 133., 134., 135., 136., 137., 138., 139., 140., 141., 142.,\n",
       "       143., 144., 145., 146., 147., 148., 149., 150., 151., 152., 153.,\n",
       "       154., 155., 156., 157., 158., 159., 160., 161., 162., 163., 164.,\n",
       "       165., 166., 167., 168., 169., 170., 171., 172., 173., 174., 175.,\n",
       "       176., 177., 178., 179., 180., 181., 182., 183., 184., 185., 186.,\n",
       "       187., 188., 189., 190., 191., 192., 193., 194., 195., 196., 197.,\n",
       "       198., 199., 200., 201., 202., 203., 204., 206., 207., 208., 209.,\n",
       "       210., 211., 212., 213., 214., 215., 216., 217., 218., 219., 220.,\n",
       "       221., 222., 223., 224., 225., 226., 227., 228., 229., 230., 231.,\n",
       "       232., 233., 234., 235., 236., 237., 238., 239., 240., 241., 242.,\n",
       "       243., 244., 245., 246., 247., 248., 249., 250., 251., 252., 253.,\n",
       "       254., 255., 256., 257., 258., 259., 260., 261., 262., 263., 264.,\n",
       "       265., 266., 267., 268., 270., 271., 272., 273., 274., 275., 276.,\n",
       "       277., 278., 279., 280., 281., 282., 283., 284., 285., 286., 287.,\n",
       "       288., 289., 290., 291., 292., 293., 294., 295., 296., 297., 298.,\n",
       "       299., 300., 301., 303., 304., 305., 306., 307., 308., 309., 310.,\n",
       "       311., 312., 313., 314., 315., 316., 317., 318., 319., 320., 321.,\n",
       "       322., 323., 324., 325., 326., 327., 328., 329., 331., 332., 333.,\n",
       "       334., 335., 336., 337., 338., 339., 340., 341., 342., 343., 344.,\n",
       "       345., 346., 347., 348., 349., 350., 351., 352., 353., 354., 355.,\n",
       "       356., 357., 358., 359., 360., 361., 362., 363., 364., 365., 366.,\n",
       "       367., 368., 369., 370., 371., 372., 373., 374., 375., 376., 377.,\n",
       "       378., 379., 380., 381., 382., 384., 385., 386., 387., 388., 389.,\n",
       "       390., 391., 392., 393., 394., 395., 396., 398., 399., 400., 401.,\n",
       "       402.,  nan])"
      ]
     },
     "execution_count": 168,
     "metadata": {},
     "output_type": "execute_result"
    }
   ],
   "source": [
    "g['y'].sort_values().unique()"
   ]
  },
  {
   "cell_type": "code",
   "execution_count": null,
   "metadata": {},
   "outputs": [],
   "source": []
  }
 ],
 "metadata": {
  "kernelspec": {
   "display_name": "Python 3",
   "language": "python",
   "name": "python3"
  },
  "language_info": {
   "codemirror_mode": {
    "name": "ipython",
    "version": 3
   },
   "file_extension": ".py",
   "mimetype": "text/x-python",
   "name": "python",
   "nbconvert_exporter": "python",
   "pygments_lexer": "ipython3",
   "version": "3.8.5"
  }
 },
 "nbformat": 4,
 "nbformat_minor": 4
}
