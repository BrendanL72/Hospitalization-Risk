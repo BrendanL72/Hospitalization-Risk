{
 "cells": [
  {
   "cell_type": "code",
   "execution_count": 1,
   "metadata": {},
   "outputs": [],
   "source": [
    "import pandas as pd\n",
    "import numpy as np\n",
    "#import seaborn as sns\n",
    "import math\n",
    "import os\n",
    "import datetime\n",
    "import re\n",
    "#from google.colab import drive\n",
    "import seaborn as sns\n",
    "import matplotlib.pyplot as plt\n",
    "#drive.mount('/content/drive')\n",
    "from sklearn.model_selection import train_test_split, GridSearchCV\n",
    "from sklearn.ensemble import BaggingClassifier\n",
    "from sklearn.metrics import confusion_matrix, classification_report, plot_confusion_matrix\n",
    "from sklearn.svm import SVC\n",
    "from sklearn.tree import DecisionTreeClassifier\n",
    "from sklearn.neighbors import KNeighborsClassifier\n",
    "from sklearn.decomposition import PCA\n",
    "import scipy.stats as stats"
   ]
  },
  {
   "cell_type": "code",
   "execution_count": 2,
   "metadata": {},
   "outputs": [
    {
     "name": "stderr",
     "output_type": "stream",
     "text": [
      "/Users/chrszlr/opt/anaconda3/lib/python3.8/site-packages/IPython/core/interactiveshell.py:3146: DtypeWarning: Columns (481) have mixed types.Specify dtype option on import or set low_memory=False.\n",
      "  has_raised = await self.run_ast_nodes(code_ast.body, cell_name,\n"
     ]
    }
   ],
   "source": [
    "freqs = pd.read_csv('./data/frequenciesExtra.csv')"
   ]
  },
  {
   "cell_type": "code",
   "execution_count": 3,
   "metadata": {
    "scrolled": false
   },
   "outputs": [],
   "source": [
    "numberRe = re.compile('[0-9]+')\n",
    "noneRe = re.compile('None')\n",
    "def daysStrToInt(dStr):\n",
    "    if isinstance(dStr, str):\n",
    "        if numberRe.match(dStr):\n",
    "            return int(dStr.split(' ')[0])\n",
    "        elif noneRe.match(dStr):\n",
    "            return None\n",
    "    return dStr\n",
    "\n",
    "freqs['hospDistance'] = freqs['hospDistance'].transform(daysStrToInt)"
   ]
  },
  {
   "cell_type": "code",
   "execution_count": 4,
   "metadata": {},
   "outputs": [],
   "source": [
    "def deIdCrf(crfs):\n",
    "  return crfs.drop(columns=['Masked Client ID', 'Date of Review', 'Date'])\n",
    "\n",
    "def deIdAdl(adls):\n",
    "  return adls.drop(columns=['DeIdentify ID', 'CaregiverID', 'VisitDate', 'ActualTimeIn', 'ActualTimeOut', 'Date'])"
   ]
  },
  {
   "cell_type": "code",
   "execution_count": 6,
   "metadata": {},
   "outputs": [],
   "source": [
    "x = deIdAdl(freqs).drop(columns=['hasHospitalization', 'hospDistance'])\n",
    "y = freqs['hasHospitalization']\n",
    "d = freqs['hospDistance']"
   ]
  },
  {
   "cell_type": "code",
   "execution_count": 7,
   "metadata": {},
   "outputs": [],
   "source": [
    "x_train, x_test, y_train, y_test = train_test_split(x, y, test_size=.25, random_state=15)"
   ]
  },
  {
   "cell_type": "code",
   "execution_count": 41,
   "metadata": {},
   "outputs": [],
   "source": [
    "PCA_O = PCA(n_components=150)\n",
    "pca_train = PCA_O.fit_transform(x_train)\n",
    "pca_test = PCA_O.transform(x_test)"
   ]
  },
  {
   "cell_type": "code",
   "execution_count": null,
   "metadata": {},
   "outputs": [],
   "source": [
    "#New column in frequency data\n",
    "#Has been to hospital before / of all CRFs how many times was hospitalization"
   ]
  },
  {
   "cell_type": "code",
   "execution_count": 19,
   "metadata": {},
   "outputs": [
    {
     "data": {
      "text/plain": [
       "SVC(C=1, class_weight={0.0: 200, 1.0: 1}, kernel='linear')"
      ]
     },
     "execution_count": 19,
     "metadata": {},
     "output_type": "execute_result"
    }
   ],
   "source": [
    "#weights = {1.0: 200, 0.0: 1}\n",
    "weights = {1.0: 1, 0.0: 200}\n",
    "\n",
    "#model = SVC(kernel='poly', C=10, class_weight='balanced')\n",
    "#model = SVC(kernel='poly', C=1, degree=3, class_weight='balanced')\n",
    "#model = SVC(kernel='poly', C=1, degree=3)\n",
    "#model = SVC(kernel='poly', C=1, degree=3, class_weight=weights)\n",
    "#model = SVC(kernel='linear', C=10, class_weight='balanced')\n",
    "#model = SVC(kernel='linear', C=1, class_weight='balanced')\n",
    "model = SVC(kernel='linear', C=1, class_weight=weights)\n",
    "#model = SVC(kernel='linear')\n",
    "#model = DecisionTreeClassifier(criterion='entropy')\n",
    "#model = KNeighborsClassifier(n_neighbors=5)\n",
    "#model = BaggingClassifier(base_estimator=SVC(kernel='linear'), n_estimators=10, random_state=15)\n",
    "\n",
    "model.fit(x_train, y_train)\n",
    "#model.fit(pca_train, y_train)"
   ]
  },
  {
   "cell_type": "code",
   "execution_count": 20,
   "metadata": {},
   "outputs": [],
   "source": [
    "#pred_train = model.predict(pca_train)\n",
    "#pred_test = model.predict(pca_test)\n",
    "pred_train = model.predict(x_train)\n",
    "pred_test = model.predict(x_test)"
   ]
  },
  {
   "cell_type": "code",
   "execution_count": 14,
   "metadata": {},
   "outputs": [
    {
     "name": "stdout",
     "output_type": "stream",
     "text": [
      "              precision    recall  f1-score   support\n",
      "\n",
      "         0.0       1.00      1.00      1.00     41722\n",
      "         1.0       1.00      0.62      0.77       221\n",
      "\n",
      "    accuracy                           1.00     41943\n",
      "   macro avg       1.00      0.81      0.88     41943\n",
      "weighted avg       1.00      1.00      1.00     41943\n",
      "\n"
     ]
    },
    {
     "data": {
      "image/png": "[encoded data removed]",
      "text/plain": [
       "<Figure size 432x288 with 2 Axes>"
      ]
     },
     "metadata": {
      "needs_background": "light"
     },
     "output_type": "display_data"
    },
    {
     "data": {
      "image/png": "[encoded data removed]",
      "text/plain": [
       "<Figure size 432x288 with 2 Axes>"
      ]
     },
     "metadata": {
      "needs_background": "light"
     },
     "output_type": "display_data"
    }
   ],
   "source": [
    "#Training results\n",
    "plot_confusion_matrix(model, x_train, y_train)\n",
    "plot_confusion_matrix(model, x_train, y_train, normalize='true')\n",
    "#plot_confusion_matrix(model, pca_train, y_train)\n",
    "#plot_confusion_matrix(model, pca_train, y_train, normalize='true')\n",
    "print(classification_report(y_train, pred_train))"
   ]
  },
  {
   "cell_type": "code",
   "execution_count": 15,
   "metadata": {},
   "outputs": [
    {
     "name": "stdout",
     "output_type": "stream",
     "text": [
      "              precision    recall  f1-score   support\n",
      "\n",
      "         0.0       1.00      1.00      1.00     13926\n",
      "         1.0       0.78      0.55      0.65        56\n",
      "\n",
      "    accuracy                           1.00     13982\n",
      "   macro avg       0.89      0.78      0.82     13982\n",
      "weighted avg       1.00      1.00      1.00     13982\n",
      "\n"
     ]
    },
    {
     "data": {
      "image/png": "[encoded data removed]",
      "text/plain": [
       "<Figure size 432x288 with 2 Axes>"
      ]
     },
     "metadata": {
      "needs_background": "light"
     },
     "output_type": "display_data"
    },
    {
     "data": {
      "image/png": "[encoded data removed]",
      "text/plain": [
       "<Figure size 432x288 with 2 Axes>"
      ]
     },
     "metadata": {
      "needs_background": "light"
     },
     "output_type": "display_data"
    }
   ],
   "source": [
    "#Test results\n",
    "plot_confusion_matrix(model, x_test, y_test)\n",
    "plot_confusion_matrix(model, x_test, y_test, normalize='true')\n",
    "#plot_confusion_matrix(model, pca_test, y_test)\n",
    "#plot_confusion_matrix(model, pca_test, y_test, normalize='true')\n",
    "print(classification_report(y_test, pred_test))"
   ]
  },
  {
   "cell_type": "code",
   "execution_count": 21,
   "metadata": {
    "scrolled": true
   },
   "outputs": [
    {
     "name": "stdout",
     "output_type": "stream",
     "text": [
      "Precision: 1.0\n",
      "Recall: 0.6244343891402715\n",
      "F1 Score: 0.7688022284122563\n",
      "\n",
      "Precision: 0.775\n",
      "Recall: 0.5535714285714286\n",
      "F1 Score: 0.6458333333333334\n",
      "\n"
     ]
    }
   ],
   "source": [
    "conf_train = confusion_matrix(y_true=y_train, y_pred=pred_train)\n",
    "conf_test = confusion_matrix(y_true=y_test, y_pred=pred_test)\n",
    "\n",
    "def calculateScores(conf):\n",
    "    precision = conf[1,1]/sum(conf[:,1])\n",
    "    recall = conf[1,1]/sum(conf[1])\n",
    "    f1Score = 2/(1/precision + 1/recall)\n",
    "    return precision, recall, f1Score\n",
    "\n",
    "#Looking for high recall\n",
    "for i in [conf_train, conf_test]:\n",
    "    p, r, f = calculateScores(i)\n",
    "    print(f'Precision: {p}\\nRecall: {r}\\nF1 Score: {f}\\n')"
   ]
  },
  {
   "cell_type": "code",
   "execution_count": 24,
   "metadata": {},
   "outputs": [],
   "source": [
    "#Only usable for linear kernel\n",
    "def computeDistance(x_vals, model):\n",
    "    p = model.decision_function(x_vals)\n",
    "    w_norm = np.linalg.norm(model.coef_)\n",
    "    dist = p / w_norm\n",
    "    dist = p\n",
    "    return pd.Series(data=dist)"
   ]
  },
  {
   "cell_type": "code",
   "execution_count": 30,
   "metadata": {},
   "outputs": [],
   "source": [
    "dist_train = computeDistance(x_train, model)\n",
    "dist_test = computeDistance(x_test, model)\n",
    "#CHANGE FOR WHICH SET SHOULD BE COMPUTED\n",
    "dist = dist_test\n",
    "graphData = []\n",
    "step = 20\n",
    "boundary = min(dist)\n",
    "rng = max(dist)-boundary\n",
    "for i in range(0,1+step):\n",
    "    v = boundary+(i/step)*rng\n",
    "    # nope # eq included so that 0 and 1 are caught\n",
    "    #print(f'v: {v}, p: {predVal}')\n",
    "    sub = dist.loc[(dist >= v) & (dist < v+rng/step)]\n",
    "    a = {'Prob': v, 'Density': len(sub)}\n",
    "    #print(graphData)\n",
    "    graphData.append(a)\n",
    "graphData = pd.DataFrame(data=graphData)\n",
    "#graphData = graphData.astype(float)"
   ]
  },
  {
   "cell_type": "code",
   "execution_count": 120,
   "metadata": {},
   "outputs": [],
   "source": [
    "\"\"\"\n",
    "percentile = stats.norm(dist.mean(), dist.std())\n",
    "g = pd.DataFrame()\n",
    "g.insert(0, 'x', dist)\n",
    "g.insert(1, 'y', percentile.cdf(dist))\n",
    "\"\"\""
   ]
  },
  {
   "cell_type": "code",
   "execution_count": 141,
   "metadata": {},
   "outputs": [],
   "source": [
    "\"\"\"\n",
    "g = pd.DataFrame()\n",
    "g.insert(0, 'x', sorted(dist))\n",
    "pct = []\n",
    "for i, v in g['x'].items():\n",
    "    pct.append(i/len(g['x']))\n",
    "g.insert(1, 'y', pct)\n",
    "\"\"\""
   ]
  },
  {
   "cell_type": "code",
   "execution_count": 31,
   "metadata": {},
   "outputs": [],
   "source": [
    "g = pd.DataFrame()\n",
    "g.insert(0, 'x', dist)\n",
    "#g.insert(1, 'y', d.iloc[x_train.index])\n",
    "g.insert(1, 'y', d.iloc[x.index])"
   ]
  },
  {
   "cell_type": "code",
   "execution_count": 34,
   "metadata": {
    "scrolled": true
   },
   "outputs": [
    {
     "data": {
      "text/plain": [
       "<AxesSubplot:xlabel='x', ylabel='y'>"
      ]
     },
     "execution_count": 34,
     "metadata": {},
     "output_type": "execute_result"
    },
    {
     "data": {
      "image/png": "[encoded data removed]",
      "text/plain": [
       "<Figure size 720x360 with 1 Axes>"
      ]
     },
     "metadata": {
      "needs_background": "light"
     },
     "output_type": "display_data"
    }
   ],
   "source": [
    "#Graph for true label and distance from SVM border given date until hospitalization\n",
    "plt.figure(figsize=(10,5))\n",
    "sns.scatterplot(x='x',y='y',data=g,hue=y_test,alpha=0.8)"
   ]
  },
  {
   "cell_type": "code",
   "execution_count": 36,
   "metadata": {},
   "outputs": [
    {
     "data": {
      "text/plain": [
       "<AxesSubplot:xlabel='x', ylabel='y'>"
      ]
     },
     "execution_count": 36,
     "metadata": {},
     "output_type": "execute_result"
    },
    {
     "data": {
      "image/png": "[encoded data removed]",
      "text/plain": [
       "<Figure size 720x360 with 1 Axes>"
      ]
     },
     "metadata": {
      "needs_background": "light"
     },
     "output_type": "display_data"
    }
   ],
   "source": [
    "#X-axis limited graph\n",
    "plt.figure(figsize=(10,5))\n",
    "plt.xlim(-1, 1)\n",
    "sns.scatterplot(x='x',y='y',data=g,hue=y_test,alpha=1)"
   ]
  },
  {
   "cell_type": "code",
   "execution_count": null,
   "metadata": {},
   "outputs": [],
   "source": []
  }
 ],
 "metadata": {
  "kernelspec": {
   "display_name": "Python 3.9.13 64-bit (microsoft store)",
   "language": "python",
   "name": "python3"
  },
  "language_info": {
   "codemirror_mode": {
    "name": "ipython",
    "version": 3
   },
   "file_extension": ".py",
   "mimetype": "text/x-python",
   "name": "python",
   "nbconvert_exporter": "python",
   "pygments_lexer": "ipython3",
   "version": "3.9.13"
  },
  "vscode": {
   "interpreter": {
    "hash": "dc7c0481baace6a597cdc1b9f0de4445b935b38d9af22f80f4ce81dfadb25b97"
   }
  }
 },
 "nbformat": 4,
 "nbformat_minor": 4
}
