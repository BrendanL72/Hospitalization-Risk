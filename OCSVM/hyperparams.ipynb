{
 "cells": [
  {
   "cell_type": "code",
   "execution_count": 58,
   "metadata": {},
   "outputs": [],
   "source": [
    "#imports\n",
    "from pathlib import Path\n",
    "import numpy as np\n",
    "import pandas as pd\n",
    "import math\n",
    "\n",
    "from sklearn.preprocessing import MinMaxScaler\n",
    "from sklearn.model_selection import train_test_split\n",
    "from sklearn.metrics import recall_score, f1_score, precision_score\n",
    "from libsvm.svmutil import *\n",
    "from libsvm.svm import *"
   ]
  },
  {
   "cell_type": "markdown",
   "metadata": {},
   "source": [
    "# Data Prep"
   ]
  },
  {
   "cell_type": "code",
   "execution_count": 59,
   "metadata": {},
   "outputs": [],
   "source": [
    "data_path = \"../data\"\n",
    "output_path = \"./output\"\n",
    "\n",
    "csv_name = 'frequencies.csv'\n",
    "csv_path = Path(data_path, csv_name)\n",
    "\n",
    "train_file_name = Path(output_path, \"freq_train\") \n",
    "test_file_name = Path(output_path, \"freq_test\") \n",
    "\n",
    "df = pd.read_csv(csv_path)"
   ]
  },
  {
   "cell_type": "code",
   "execution_count": 60,
   "metadata": {},
   "outputs": [
    {
     "data": {
      "text/plain": [
       "array([[0.91803279, 0.        , 0.        , ..., 0.        , 0.        ,\n",
       "        0.        ],\n",
       "       [0.        , 0.        , 0.16836735, ..., 0.        , 0.        ,\n",
       "        0.        ],\n",
       "       [0.        , 0.        , 0.37755102, ..., 0.        , 0.        ,\n",
       "        0.        ],\n",
       "       ...,\n",
       "       [0.06557377, 0.        , 0.        , ..., 0.        , 0.        ,\n",
       "        0.        ],\n",
       "       [0.31967213, 0.        , 0.        , ..., 0.        , 0.        ,\n",
       "        0.112     ],\n",
       "       [0.        , 0.        , 0.35714286, ..., 0.        , 0.        ,\n",
       "        0.        ]])"
      ]
     },
     "execution_count": 60,
     "metadata": {},
     "output_type": "execute_result"
    }
   ],
   "source": [
    "#remove index and get outcome from csv\n",
    "df = df.drop(\"Unnamed: 0\", axis = 1)\n",
    "y = df['hasHospitilization']\n",
    "x = df.drop(['hasHospitilization'], axis=1)\n",
    "\n",
    "#split into training and testing data\n",
    "x_train, x_test, y_train, y_test = train_test_split(x, y, test_size = 0.2)\n",
    "\n",
    "convert_outcome = lambda x: -2*x+1\n",
    "\n",
    "#convert outcomes to LibSVM format: -1 (anomaly) and 1(normal)\n",
    "y_train_convert = convert_outcome(y_train)\n",
    "y_test_convert = convert_outcome(y_test)\n",
    "\n",
    "#scale data from 0 to 1 to avoid domination of one factor\n",
    "scaler = MinMaxScaler(copy = False)\n",
    "scaler.fit_transform(x_train)\n",
    "scaler.transform(x_test)"
   ]
  },
  {
   "cell_type": "code",
   "execution_count": 61,
   "metadata": {},
   "outputs": [
    {
     "name": "stdout",
     "output_type": "stream",
     "text": [
      "Accuracy = 98.7384% (9235/9353) (classification)\n"
     ]
    }
   ],
   "source": [
    "outcomes_train = y_train_convert.to_list()\n",
    "outcomes_test = y_test_convert.to_list()\n",
    "\n",
    "input_train = x_train.values.tolist()\n",
    "input_test = x_test.values.tolist()\n",
    "\n",
    "train_prob = svm_problem(outcomes_train,input_train)\n",
    "\n",
    "#params:\n",
    "#  -s 2: Choose OCSVM model\n",
    "#  -b 1: Choose to predict probability\n",
    "#  -n:   nu hyperparameter, upper limit of incorrect labels, lower means less tolerance\n",
    "#  -g:   gamma hyperparameter, determines similarity required to be in same class, higher means more curvature\n",
    "#  -h:   Use shrinking heuristic or not\n",
    "params = svm_parameter('-s 2 -b 1 -n 0.01 -g 0.0001 -h 0')\n",
    "\n",
    "#train and save model\n",
    "model = svm_train(train_prob, params)\n",
    "\n",
    "p_labels, p_acc, p_vals = svm_predict(outcomes_test, input_test, model, '-b 1')"
   ]
  },
  {
   "cell_type": "code",
   "execution_count": 62,
   "metadata": {},
   "outputs": [
    {
     "name": "stdout",
     "output_type": "stream",
     "text": [
      "Number of Predicted Positives: 86\n",
      "Actual Positives in Dataset: 32\n",
      "Percentage of Predicted Positives: 0.009194910723831926\n",
      "Percentage of Actual Positives in Test Dataset 0.0034213621297979257\n",
      "Precision Score: 0.0\n",
      "Recall Score: 0.0\n",
      "F1 Score: 0.0\n"
     ]
    }
   ],
   "source": [
    "pred_outcomes = np.array(p_labels) < 0\n",
    "actual_outcomes = np.array(y_test_convert) < 0\n",
    "\n",
    "#numpy wizardy lets you find number of bools based on sum of bools\n",
    "num_gauss_preds = pred_outcomes.sum()\n",
    "real_positives = actual_outcomes.sum()\n",
    "\n",
    "gauss_pred_pos_percent = num_gauss_preds/pred_outcomes.shape[0]\n",
    "real_pos_percentage = real_positives/actual_outcomes.shape[0]\n",
    "\n",
    "\n",
    "#find positivity rate for prediction and actual outcomes\n",
    "print(\"Number of Predicted Positives:\", num_gauss_preds)\n",
    "print(\"Actual Positives in Dataset:\", real_positives)\n",
    "\n",
    "print(\"Percentage of Predicted Positives:\",gauss_pred_pos_percent)\n",
    "print(\"Percentage of Actual Positives in Test Dataset\", real_pos_percentage)\n",
    "\n",
    "#compute anomaly detection metrics: precision, recall, and f1 score\n",
    "prec_score = precision_score(actual_outcomes, pred_outcomes, average = \"binary\")\n",
    "rec_score = recall_score(actual_outcomes, pred_outcomes, average = \"binary\")\n",
    "f_score = f1_score(actual_outcomes, pred_outcomes, average = \"binary\")\n",
    "\n",
    "print(\"Precision Score: \" + str(prec_score))\n",
    "print(\"Recall Score: \" + str(rec_score))\n",
    "print(\"F1 Score: \" + str(f_score))"
   ]
  }
 ],
 "metadata": {
  "kernelspec": {
   "display_name": "Python 3.10.8 64-bit (microsoft store)",
   "language": "python",
   "name": "python3"
  },
  "language_info": {
   "codemirror_mode": {
    "name": "ipython",
    "version": 3
   },
   "file_extension": ".py",
   "mimetype": "text/x-python",
   "name": "python",
   "nbconvert_exporter": "python",
   "pygments_lexer": "ipython3",
   "version": "3.10.8"
  },
  "orig_nbformat": 4,
  "vscode": {
   "interpreter": {
    "hash": "afba4204878ca03c63ed7efcb60107da2ad8c3ac00701b48d074a447a88689b7"
   }
  }
 },
 "nbformat": 4,
 "nbformat_minor": 2
}
