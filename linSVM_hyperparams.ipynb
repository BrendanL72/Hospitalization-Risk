{
 "cells": [
  {
   "cell_type": "markdown",
   "metadata": {},
   "source": [
    "# Linear SVM Grid Search\n",
    "\n",
    "Linear SVMs have been found to be the best model so far. This notebook seeks to optimize the hyperparameters used in this Linear SVM via SciKitLearn's great grid search function.\n",
    "\n",
    "Refer to these pages for information as it was used to create this notebook.\n",
    "\n",
    "https://scikit-learn.org/stable/modules/grid_search.html#grid-search\n",
    "\n",
    "https://scikit-learn.org/stable/modules/generated/sklearn.model_selection.GridSearchCV.html#sklearn.model_selection.GridSearchCV\n"
   ]
  },
  {
   "cell_type": "code",
   "execution_count": 4,
   "metadata": {},
   "outputs": [],
   "source": [
    "import pandas as pd\n",
    "import numpy as np\n",
    "import re\n",
    "\n",
    "#sklearn imports\n",
    "from sklearn.metrics import precision_score, recall_score, f1_score\n",
    "from sklearn.svm import SVC\n",
    "from sklearn.svm import OneClassSVM\n",
    "from sklearn.model_selection import train_test_split, GridSearchCV"
   ]
  },
  {
   "cell_type": "markdown",
   "metadata": {},
   "source": [
    "## Importing the Data"
   ]
  },
  {
   "cell_type": "code",
   "execution_count": 5,
   "metadata": {},
   "outputs": [
    {
     "name": "stderr",
     "output_type": "stream",
     "text": [
      "C:\\Users\\blim5\\AppData\\Local\\Temp\\ipykernel_13532\\2459670657.py:1: DtypeWarning: Columns (481) have mixed types. Specify dtype option on import or set low_memory=False.\n",
      "  data = pd.read_csv('./data/frequenciesExtra.csv')\n"
     ]
    }
   ],
   "source": [
    "data = pd.read_csv('./data/frequenciesExtra.csv')\n",
    "\n",
    "numberRe = re.compile('[0-9]+')\n",
    "noneRe = re.compile('None')\n",
    "def daysStrToInt(dStr):\n",
    "    if isinstance(dStr, str):\n",
    "        if numberRe.match(dStr):\n",
    "            return int(dStr.split(' ')[0])\n",
    "        elif noneRe.match(dStr):\n",
    "            return None\n",
    "    return dStr\n",
    "\n",
    "data['hospDistance'] = data['hospDistance'].transform(daysStrToInt)"
   ]
  },
  {
   "cell_type": "code",
   "execution_count": 6,
   "metadata": {},
   "outputs": [],
   "source": [
    "def deIdCrf(crfs):\n",
    "  return crfs.drop(columns=['Masked Client ID', 'Date of Review', 'Date'])\n",
    "\n",
    "def deIdAdl(adls):\n",
    "  return adls.drop(columns=['DeIdentify ID', 'CaregiverID', 'VisitDate', 'ActualTimeIn', 'ActualTimeOut', 'Date'])"
   ]
  },
  {
   "cell_type": "code",
   "execution_count": 7,
   "metadata": {},
   "outputs": [],
   "source": [
    "x = deIdAdl(data).drop(columns=['hasHospitalization', 'hospDistance'])\n",
    "y = data['hasHospitalization']\n",
    "d = data['hospDistance']"
   ]
  },
  {
   "cell_type": "code",
   "execution_count": 8,
   "metadata": {},
   "outputs": [
    {
     "name": "stdout",
     "output_type": "stream",
     "text": [
      "221\n",
      "56\n"
     ]
    }
   ],
   "source": [
    "#split into training and testing data\n",
    "x_train, x_test, y_train, y_test = train_test_split(x, y, test_size=.25, random_state=15)\n",
    "y_train = np.array(y_train, dtype=bool)\n",
    "y_test = np.array(y_test, dtype=bool)\n",
    "print(y_train.sum())\n",
    "print(y_test.sum())"
   ]
  },
  {
   "cell_type": "markdown",
   "metadata": {},
   "source": [
    "## Grid Search\n",
    "\n",
    "SVMs have a few hyperparameters to look through:\n",
    "* C: Inverse of nu. Determines how closely fitting the svm will be by determining penalty for missing a classification\n",
    "* Kernel: Set to be linear since that provided the best results\n",
    "* Gamma: Determines the curvature of the hyperplane. Not used because we are using a Linear Kernel\n",
    "* Weighting: Determines the penalty cost for missing a node from each class. We set those who have been hospitalized to 0 and those who have not to 1. Because we are doing anomaly detection, this paramater becomes very important since Linear SVMs are not designed for that."
   ]
  },
  {
   "cell_type": "code",
   "execution_count": 26,
   "metadata": {},
   "outputs": [
    {
     "name": "stdout",
     "output_type": "stream",
     "text": [
      "Fitting 5 folds for each of 20 candidates, totalling 100 fits\n"
     ]
    },
    {
     "data": {
      "text/plain": [
       "{'C': 0.5, 'class_weight': {1.0: 1, 0.0: 10}}"
      ]
     },
     "execution_count": 26,
     "metadata": {},
     "output_type": "execute_result"
    }
   ],
   "source": [
    "#params to grid search through\n",
    "param_grid = [\n",
    "   {'C': [0.1,0.5,1,10,100], \n",
    "   'class_weight' : [{1.0: 1, 0.0: 10},{1.0: 1, 0.0: 25},{1.0: 1, 0.0: 50},{1.0: 1, 0.0: 100}]\n",
    "   }\n",
    "]\n",
    "\n",
    "#Verbose indicates the level of output desired during grid search execution, higher means more (it's dumb). It doesn't seem to work though\n",
    "#n_jobs is set to -1, meaning that it will use all processors available to run the grid search faster\n",
    "search = GridSearchCV(estimator=SVC(kernel='linear'), param_grid= param_grid, verbose= 3, n_jobs=-1)\n",
    "search.fit(x_train, y_train)\n",
    "search.best_params_"
   ]
  },
  {
   "cell_type": "code",
   "execution_count": 28,
   "metadata": {},
   "outputs": [
    {
     "name": "stdout",
     "output_type": "stream",
     "text": [
      "{'C': 0.5, 'class_weight': {1.0: 1, 0.0: 10}}\n",
      "    mean_fit_time  std_fit_time  mean_score_time  std_score_time param_C  \\\n",
      "0       37.482078      1.430349         0.802794        0.389252     0.1   \n",
      "1       33.720942      4.048325         0.543968        0.073956     0.1   \n",
      "2       30.740556      2.881127         0.531128        0.089459     0.1   \n",
      "3       28.585553      2.824071         0.501283        0.084969     0.1   \n",
      "4       34.520521      3.134284         0.513889        0.060154     0.5   \n",
      "5       35.441495      5.487460         0.524834        0.054402     0.5   \n",
      "6       33.545605      3.403674         0.507459        0.049434     0.5   \n",
      "7       34.210650      4.373831         0.532525        0.076677     0.5   \n",
      "8       36.029290      3.706238         0.509050        0.067354       1   \n",
      "9       37.176459      5.004768         0.509038        0.096848       1   \n",
      "10      36.394962      3.996773         0.504720        0.087341       1   \n",
      "11      35.325864      5.473005         0.505557        0.054303       1   \n",
      "12      51.813565     11.536884         0.554177        0.111276      10   \n",
      "13      50.795591      9.475266         0.573057        0.041575      10   \n",
      "14      55.360748     13.076122         0.693657        0.132240      10   \n",
      "15      60.951814      6.450391         0.927596        0.336930      10   \n",
      "16     120.731129     53.663119         0.619586        0.098331     100   \n",
      "17     114.884860     53.549748         0.811252        0.317433     100   \n",
      "18     120.520292     57.029621         0.632248        0.063847     100   \n",
      "19      97.765387     38.935845         0.445562        0.090840     100   \n",
      "\n",
      "    param_class_weight                                          params  \\\n",
      "0    {1.0: 1, 0.0: 10}   {'C': 0.1, 'class_weight': {1.0: 1, 0.0: 10}}   \n",
      "1    {1.0: 1, 0.0: 25}   {'C': 0.1, 'class_weight': {1.0: 1, 0.0: 25}}   \n",
      "2    {1.0: 1, 0.0: 50}   {'C': 0.1, 'class_weight': {1.0: 1, 0.0: 50}}   \n",
      "3   {1.0: 1, 0.0: 100}  {'C': 0.1, 'class_weight': {1.0: 1, 0.0: 100}}   \n",
      "4    {1.0: 1, 0.0: 10}   {'C': 0.5, 'class_weight': {1.0: 1, 0.0: 10}}   \n",
      "5    {1.0: 1, 0.0: 25}   {'C': 0.5, 'class_weight': {1.0: 1, 0.0: 25}}   \n",
      "6    {1.0: 1, 0.0: 50}   {'C': 0.5, 'class_weight': {1.0: 1, 0.0: 50}}   \n",
      "7   {1.0: 1, 0.0: 100}  {'C': 0.5, 'class_weight': {1.0: 1, 0.0: 100}}   \n",
      "8    {1.0: 1, 0.0: 10}     {'C': 1, 'class_weight': {1.0: 1, 0.0: 10}}   \n",
      "9    {1.0: 1, 0.0: 25}     {'C': 1, 'class_weight': {1.0: 1, 0.0: 25}}   \n",
      "10   {1.0: 1, 0.0: 50}     {'C': 1, 'class_weight': {1.0: 1, 0.0: 50}}   \n",
      "11  {1.0: 1, 0.0: 100}    {'C': 1, 'class_weight': {1.0: 1, 0.0: 100}}   \n",
      "12   {1.0: 1, 0.0: 10}    {'C': 10, 'class_weight': {1.0: 1, 0.0: 10}}   \n",
      "13   {1.0: 1, 0.0: 25}    {'C': 10, 'class_weight': {1.0: 1, 0.0: 25}}   \n",
      "14   {1.0: 1, 0.0: 50}    {'C': 10, 'class_weight': {1.0: 1, 0.0: 50}}   \n",
      "15  {1.0: 1, 0.0: 100}   {'C': 10, 'class_weight': {1.0: 1, 0.0: 100}}   \n",
      "16   {1.0: 1, 0.0: 10}   {'C': 100, 'class_weight': {1.0: 1, 0.0: 10}}   \n",
      "17   {1.0: 1, 0.0: 25}   {'C': 100, 'class_weight': {1.0: 1, 0.0: 25}}   \n",
      "18   {1.0: 1, 0.0: 50}   {'C': 100, 'class_weight': {1.0: 1, 0.0: 50}}   \n",
      "19  {1.0: 1, 0.0: 100}  {'C': 100, 'class_weight': {1.0: 1, 0.0: 100}}   \n",
      "\n",
      "    split0_test_score  split1_test_score  split2_test_score  \\\n",
      "0            0.997497           0.997020           0.996662   \n",
      "1            0.997497           0.997020           0.996662   \n",
      "2            0.997497           0.997020           0.996662   \n",
      "3            0.997497           0.997020           0.996662   \n",
      "4            0.997378           0.997258           0.997378   \n",
      "5            0.997378           0.997258           0.997378   \n",
      "6            0.997378           0.997258           0.997378   \n",
      "7            0.997378           0.997258           0.997378   \n",
      "8            0.996901           0.997258           0.997378   \n",
      "9            0.996901           0.997258           0.997378   \n",
      "10           0.996901           0.997258           0.997378   \n",
      "11           0.996901           0.997258           0.997378   \n",
      "12           0.996901           0.996185           0.996662   \n",
      "13           0.996901           0.996185           0.996662   \n",
      "14           0.996901           0.996185           0.996662   \n",
      "15           0.996901           0.996185           0.996662   \n",
      "16           0.995828           0.996066           0.995589   \n",
      "17           0.995828           0.996066           0.995589   \n",
      "18           0.995828           0.996066           0.995589   \n",
      "19           0.995828           0.996066           0.995589   \n",
      "\n",
      "    split3_test_score  split4_test_score  mean_test_score  std_test_score  \\\n",
      "0            0.996066           0.997020         0.996853        0.000475   \n",
      "1            0.996066           0.997020         0.996853        0.000475   \n",
      "2            0.996066           0.997020         0.996853        0.000475   \n",
      "3            0.996066           0.997020         0.996853        0.000475   \n",
      "4            0.996185           0.997020         0.997044        0.000449   \n",
      "5            0.996185           0.997020         0.997044        0.000449   \n",
      "6            0.996185           0.997020         0.997044        0.000449   \n",
      "7            0.996185           0.997020         0.997044        0.000449   \n",
      "8            0.995947           0.997020         0.996901        0.000506   \n",
      "9            0.995947           0.997020         0.996901        0.000506   \n",
      "10           0.995947           0.997020         0.996901        0.000506   \n",
      "11           0.995947           0.997020         0.996901        0.000506   \n",
      "12           0.996423           0.996304         0.996495        0.000257   \n",
      "13           0.996423           0.996304         0.996495        0.000257   \n",
      "14           0.996423           0.996304         0.996495        0.000257   \n",
      "15           0.996423           0.996304         0.996495        0.000257   \n",
      "16           0.995589           0.996066         0.995828        0.000213   \n",
      "17           0.995589           0.996066         0.995828        0.000213   \n",
      "18           0.995589           0.996066         0.995828        0.000213   \n",
      "19           0.995589           0.996066         0.995828        0.000213   \n",
      "\n",
      "    rank_test_score  \n",
      "0                 9  \n",
      "1                 9  \n",
      "2                 9  \n",
      "3                 9  \n",
      "4                 1  \n",
      "5                 1  \n",
      "6                 1  \n",
      "7                 1  \n",
      "8                 5  \n",
      "9                 5  \n",
      "10                5  \n",
      "11                5  \n",
      "12               13  \n",
      "13               13  \n",
      "14               13  \n",
      "15               13  \n",
      "16               17  \n",
      "17               17  \n",
      "18               17  \n",
      "19               17  \n"
     ]
    }
   ],
   "source": [
    "print(search.best_params_)\n",
    "print(pd.DataFrame(search.cv_results_))"
   ]
  },
  {
   "cell_type": "markdown",
   "metadata": {},
   "source": [
    "## Statistics for Testing Data"
   ]
  },
  {
   "cell_type": "code",
   "execution_count": 27,
   "metadata": {},
   "outputs": [
    {
     "name": "stdout",
     "output_type": "stream",
     "text": [
      "Precision: 0.8157894736842105\n",
      "Recall: 0.5535714285714286\n",
      "F1 Score 0.6595744680851064\n"
     ]
    }
   ],
   "source": [
    "best_preds = search.predict(x_test)\n",
    "print(\"Precision:\",precision_score(y_test, best_preds))\n",
    "print(\"Recall:\",recall_score(y_test, best_preds))\n",
    "print(\"F1 Score\",f1_score(y_test, best_preds))"
   ]
  },
  {
   "cell_type": "markdown",
   "metadata": {},
   "source": [
    "# Trying things out for OneClassSVM\n",
    "\n",
    "While grid search already exists in the One Class SVM model, I wanted to try it here as well."
   ]
  },
  {
   "cell_type": "code",
   "execution_count": 29,
   "metadata": {},
   "outputs": [
    {
     "name": "stdout",
     "output_type": "stream",
     "text": [
      "Fitting 5 folds for each of 1 candidates, totalling 5 fits\n"
     ]
    },
    {
     "name": "stderr",
     "output_type": "stream",
     "text": [
      "C:\\Users\\blim5\\AppData\\Local\\Packages\\PythonSoftwareFoundation.Python.3.9_qbz5n2kfra8p0\\LocalCache\\local-packages\\Python39\\site-packages\\sklearn\\model_selection\\_search.py:969: UserWarning: One or more of the test scores are non-finite: [nan]\n",
      "  warnings.warn(\n"
     ]
    },
    {
     "data": {
      "text/plain": [
       "GridSearchCV(estimator=OneClassSVM(kernel='poly'), n_jobs=-1,\n",
       "             param_grid=[{'degree': [3], 'gamma': [0.005], 'nu': [0.1]}],\n",
       "             scoring='f1', verbose=3)"
      ]
     },
     "execution_count": 29,
     "metadata": {},
     "output_type": "execute_result"
    }
   ],
   "source": [
    "#params to grid search through\n",
    "param_grid = [\n",
    "   {'nu': [0.1], \n",
    "   'gamma': [0.005],\n",
    "   'degree': [3]\n",
    "   }\n",
    "]\n",
    "\n",
    "#Verbose indicates the level of output desired during grid search execution, higher means more (it's dumb). It doesn't seem to work though\n",
    "#n_jobs is set to -1, meaning that it will use all processors available to run the grid search faster\n",
    "search = GridSearchCV(estimator=OneClassSVM(kernel='poly'), param_grid= param_grid, scoring = 'f1', verbose= 3, n_jobs=-1)\n",
    "search.fit(x_train,y_train)\n"
   ]
  },
  {
   "cell_type": "code",
   "execution_count": 31,
   "metadata": {},
   "outputs": [
    {
     "name": "stdout",
     "output_type": "stream",
     "text": [
      "{'degree': 3, 'gamma': 0.005, 'nu': 0.1}\n",
      "   mean_fit_time  std_fit_time  mean_score_time  std_score_time param_degree  \\\n",
      "0     236.915109      1.988311        21.365844        1.061736            3   \n",
      "\n",
      "  param_gamma param_nu                                    params  \\\n",
      "0       0.005      0.1  {'degree': 3, 'gamma': 0.005, 'nu': 0.1}   \n",
      "\n",
      "   split0_test_score  split1_test_score  split2_test_score  split3_test_score  \\\n",
      "0                NaN                NaN                NaN                NaN   \n",
      "\n",
      "   split4_test_score  mean_test_score  std_test_score  rank_test_score  \n",
      "0                NaN              NaN             NaN                1  \n"
     ]
    }
   ],
   "source": [
    "print(search.best_params_)\n",
    "print(pd.DataFrame(search.cv_results_))"
   ]
  },
  {
   "cell_type": "markdown",
   "metadata": {},
   "source": [
    "### Testing the best OCSVM model\n",
    "Using the best OCSVM model that was found using Grid Search"
   ]
  },
  {
   "cell_type": "code",
   "execution_count": 32,
   "metadata": {},
   "outputs": [
    {
     "name": "stdout",
     "output_type": "stream",
     "text": [
      "[1 1 1 ... 1 1 1]\n",
      "1419\n",
      "56\n",
      "1419\n",
      "56\n",
      "[False False False ... False False False]\n",
      "[False False False ... False False False]\n",
      "Precision: 0.007751937984496124\n",
      "Recall: 0.19642857142857142\n",
      "F1 Score 0.014915254237288135\n"
     ]
    }
   ],
   "source": [
    "best_preds = search.predict(x_test)\n",
    "print(best_preds)\n",
    "print(np.count_nonzero(best_preds == -1))\n",
    "print(np.count_nonzero(y_test == 1))\n",
    "\n",
    "best_preds = (best_preds < 0)\n",
    "\n",
    "\n",
    "print(np.count_nonzero(best_preds == 1))\n",
    "print(np.count_nonzero(y_test == 1))\n",
    "\n",
    "print(best_preds)\n",
    "print(y_test)\n",
    "\n",
    "print(\"Precision:\",precision_score(y_test, best_preds))\n",
    "print(\"Recall:\",recall_score(y_test, best_preds))\n",
    "print(\"F1 Score\",f1_score(y_test, best_preds))"
   ]
  }
 ],
 "metadata": {
  "kernelspec": {
   "display_name": "Python 3.9.13 64-bit (microsoft store)",
   "language": "python",
   "name": "python3"
  },
  "language_info": {
   "codemirror_mode": {
    "name": "ipython",
    "version": 3
   },
   "file_extension": ".py",
   "mimetype": "text/x-python",
   "name": "python",
   "nbconvert_exporter": "python",
   "pygments_lexer": "ipython3",
   "version": "3.9.13"
  },
  "orig_nbformat": 4,
  "vscode": {
   "interpreter": {
    "hash": "dc7c0481baace6a597cdc1b9f0de4445b935b38d9af22f80f4ce81dfadb25b97"
   }
  }
 },
 "nbformat": 4,
 "nbformat_minor": 2
}
