{
 "cells": [
  {
   "cell_type": "markdown",
   "metadata": {},
   "source": [
    "# Linear SVM Grid Search\n",
    "\n",
    "Linear SVMs have been found to be the best model so far. This notebook seeks to optimize the hyperparameters used in this Linear SVM via SciKitLearn's great grid search function.\n",
    "\n",
    "Refer to these pages for information as it was used to create this notebook.\n",
    "\n",
    "https://scikit-learn.org/stable/modules/grid_search.html#grid-search\n",
    "\n",
    "https://scikit-learn.org/stable/modules/generated/sklearn.model_selection.GridSearchCV.html#sklearn.model_selection.GridSearchCV\n"
   ]
  },
  {
   "cell_type": "code",
   "execution_count": 24,
   "metadata": {},
   "outputs": [],
   "source": [
    "import pandas as pd\n",
    "import numpy as np\n",
    "import re\n",
    "\n",
    "#sklearn imports\n",
    "from sklearn.metrics import precision_score, recall_score, f1_score\n",
    "from sklearn.svm import SVC\n",
    "from sklearn.svm import OneClassSVM\n",
    "from sklearn.model_selection import train_test_split, GridSearchCV"
   ]
  },
  {
   "cell_type": "markdown",
   "metadata": {},
   "source": [
    "## Importing the Data"
   ]
  },
  {
   "cell_type": "code",
   "execution_count": 25,
   "metadata": {},
   "outputs": [
    {
     "name": "stderr",
     "output_type": "stream",
     "text": [
      "C:\\Users\\Brendan\\AppData\\Local\\Temp\\ipykernel_4480\\2459670657.py:1: DtypeWarning: Columns (481) have mixed types. Specify dtype option on import or set low_memory=False.\n",
      "  data = pd.read_csv('./data/frequenciesExtra.csv')\n"
     ]
    }
   ],
   "source": [
    "data = pd.read_csv('./data/frequenciesExtra.csv')\n",
    "\n",
    "numberRe = re.compile('[0-9]+')\n",
    "noneRe = re.compile('None')\n",
    "def daysStrToInt(dStr):\n",
    "    if isinstance(dStr, str):\n",
    "        if numberRe.match(dStr):\n",
    "            return int(dStr.split(' ')[0])\n",
    "        elif noneRe.match(dStr):\n",
    "            return None\n",
    "    return dStr\n",
    "\n",
    "data['hospDistance'] = data['hospDistance'].transform(daysStrToInt)"
   ]
  },
  {
   "cell_type": "code",
   "execution_count": 26,
   "metadata": {},
   "outputs": [],
   "source": [
    "def deIdCrf(crfs):\n",
    "  return crfs.drop(columns=['Masked Client ID', 'Date of Review', 'Date'])\n",
    "\n",
    "def deIdAdl(adls):\n",
    "  return adls.drop(columns=['DeIdentify ID', 'CaregiverID', 'VisitDate', 'ActualTimeIn', 'ActualTimeOut', 'Date'])"
   ]
  },
  {
   "cell_type": "code",
   "execution_count": 27,
   "metadata": {},
   "outputs": [],
   "source": [
    "x = deIdAdl(data).drop(columns=['hasHospitalization', 'hospDistance'])\n",
    "y = data['hasHospitalization']\n",
    "d = data['hospDistance']"
   ]
  },
  {
   "cell_type": "code",
   "execution_count": 28,
   "metadata": {},
   "outputs": [
    {
     "name": "stdout",
     "output_type": "stream",
     "text": [
      "221\n",
      "56\n"
     ]
    }
   ],
   "source": [
    "#split into training and testing data\n",
    "x_train, x_test, y_train, y_test = train_test_split(x, y, test_size=.25, random_state=15)\n",
    "y_train = np.array(y_train, dtype=bool)\n",
    "y_test = np.array(y_test, dtype=bool)\n",
    "print(y_train.sum())\n",
    "print(y_test.sum())"
   ]
  },
  {
   "cell_type": "markdown",
   "metadata": {},
   "source": [
    "## Grid Search\n",
    "\n",
    "SVMs have a few hyperparameters to look through:\n",
    "* C: Inverse of nu. Determines how closely fitting the svm will be by determining penalty for missing a classification\n",
    "* Kernel: Set to be linear since that provided the best results\n",
    "* Gamma: Determines the curvature of the hyperplane. Not used because we are using a Linear Kernel\n",
    "* Weighting: Determines the penalty cost for missing a node from each class. We set those who have been hospitalized to 0 and those who have not to 1. Because we are doing anomaly detection, this paramater becomes very important since Linear SVMs are not designed for that."
   ]
  },
  {
   "cell_type": "code",
   "execution_count": 7,
   "metadata": {},
   "outputs": [
    {
     "name": "stdout",
     "output_type": "stream",
     "text": [
      "Fitting 5 folds for each of 20 candidates, totalling 100 fits\n"
     ]
    }
   ],
   "source": [
    "#params to grid search through\n",
    "param_grid = [\n",
    "   {'C': [0.1,0.5,1,10,100], \n",
    "   'class_weight' : [{1.0: 1, 0.0: 10},{1.0: 1, 0.0: 25},{1.0: 1, 0.0: 50},{1.0: 1, 0.0: 100}]\n",
    "   }\n",
    "]\n",
    "\n",
    "#Verbose indicates the level of output desired during grid search execution, higher means more (it's dumb). It doesn't seem to work though\n",
    "#n_jobs is set to -1, meaning that it will use all processors available to run the grid search faster\n",
    "search = GridSearchCV(estimator=SVC(kernel='linear'), param_grid= param_grid, verbose= 3, n_jobs=-1)\n",
    "search.fit(x_train, y_train)\n",
    "search.best_params_"
   ]
  },
  {
   "cell_type": "markdown",
   "metadata": {},
   "source": [
    "## Statistics for Testing Data"
   ]
  },
  {
   "cell_type": "code",
   "execution_count": null,
   "metadata": {},
   "outputs": [
    {
     "name": "stdout",
     "output_type": "stream",
     "text": [
      "Precision: 0.8157894736842105\n",
      "Recall: 0.5535714285714286\n",
      "F1 Score 0.6595744680851064\n"
     ]
    }
   ],
   "source": [
    "best_preds = search.predict(x_test)\n",
    "print(\"Precision:\",precision_score(y_test, best_preds))\n",
    "print(\"Recall:\",recall_score(y_test, best_preds))\n",
    "print(\"F1 Score\",f1_score(y_test, best_preds))"
   ]
  },
  {
   "cell_type": "markdown",
   "metadata": {},
   "source": [
    "# Trying things out for OneClassSVM"
   ]
  },
  {
   "cell_type": "code",
   "execution_count": 43,
   "metadata": {},
   "outputs": [
    {
     "name": "stdout",
     "output_type": "stream",
     "text": [
      "Fitting 5 folds for each of 18 candidates, totalling 90 fits\n"
     ]
    },
    {
     "name": "stderr",
     "output_type": "stream",
     "text": [
      "C:\\Users\\Brendan\\AppData\\Local\\Packages\\PythonSoftwareFoundation.Python.3.10_qbz5n2kfra8p0\\LocalCache\\local-packages\\Python310\\site-packages\\sklearn\\model_selection\\_search.py:953: UserWarning: One or more of the test scores are non-finite: [nan nan nan nan nan nan nan nan nan nan nan nan nan nan nan nan nan nan]\n",
      "  warnings.warn(\n"
     ]
    },
    {
     "data": {
      "text/html": [
       "<style>#sk-container-id-2 {color: black;background-color: white;}#sk-container-id-2 pre{padding: 0;}#sk-container-id-2 div.sk-toggleable {background-color: white;}#sk-container-id-2 label.sk-toggleable__label {cursor: pointer;display: block;width: 100%;margin-bottom: 0;padding: 0.3em;box-sizing: border-box;text-align: center;}#sk-container-id-2 label.sk-toggleable__label-arrow:before {content: \"▸\";float: left;margin-right: 0.25em;color: #696969;}#sk-container-id-2 label.sk-toggleable__label-arrow:hover:before {color: black;}#sk-container-id-2 div.sk-estimator:hover label.sk-toggleable__label-arrow:before {color: black;}#sk-container-id-2 div.sk-toggleable__content {max-height: 0;max-width: 0;overflow: hidden;text-align: left;background-color: #f0f8ff;}#sk-container-id-2 div.sk-toggleable__content pre {margin: 0.2em;color: black;border-radius: 0.25em;background-color: #f0f8ff;}#sk-container-id-2 input.sk-toggleable__control:checked~div.sk-toggleable__content {max-height: 200px;max-width: 100%;overflow: auto;}#sk-container-id-2 input.sk-toggleable__control:checked~label.sk-toggleable__label-arrow:before {content: \"▾\";}#sk-container-id-2 div.sk-estimator input.sk-toggleable__control:checked~label.sk-toggleable__label {background-color: #d4ebff;}#sk-container-id-2 div.sk-label input.sk-toggleable__control:checked~label.sk-toggleable__label {background-color: #d4ebff;}#sk-container-id-2 input.sk-hidden--visually {border: 0;clip: rect(1px 1px 1px 1px);clip: rect(1px, 1px, 1px, 1px);height: 1px;margin: -1px;overflow: hidden;padding: 0;position: absolute;width: 1px;}#sk-container-id-2 div.sk-estimator {font-family: monospace;background-color: #f0f8ff;border: 1px dotted black;border-radius: 0.25em;box-sizing: border-box;margin-bottom: 0.5em;}#sk-container-id-2 div.sk-estimator:hover {background-color: #d4ebff;}#sk-container-id-2 div.sk-parallel-item::after {content: \"\";width: 100%;border-bottom: 1px solid gray;flex-grow: 1;}#sk-container-id-2 div.sk-label:hover label.sk-toggleable__label {background-color: #d4ebff;}#sk-container-id-2 div.sk-serial::before {content: \"\";position: absolute;border-left: 1px solid gray;box-sizing: border-box;top: 0;bottom: 0;left: 50%;z-index: 0;}#sk-container-id-2 div.sk-serial {display: flex;flex-direction: column;align-items: center;background-color: white;padding-right: 0.2em;padding-left: 0.2em;position: relative;}#sk-container-id-2 div.sk-item {position: relative;z-index: 1;}#sk-container-id-2 div.sk-parallel {display: flex;align-items: stretch;justify-content: center;background-color: white;position: relative;}#sk-container-id-2 div.sk-item::before, #sk-container-id-2 div.sk-parallel-item::before {content: \"\";position: absolute;border-left: 1px solid gray;box-sizing: border-box;top: 0;bottom: 0;left: 50%;z-index: -1;}#sk-container-id-2 div.sk-parallel-item {display: flex;flex-direction: column;z-index: 1;position: relative;background-color: white;}#sk-container-id-2 div.sk-parallel-item:first-child::after {align-self: flex-end;width: 50%;}#sk-container-id-2 div.sk-parallel-item:last-child::after {align-self: flex-start;width: 50%;}#sk-container-id-2 div.sk-parallel-item:only-child::after {width: 0;}#sk-container-id-2 div.sk-dashed-wrapped {border: 1px dashed gray;margin: 0 0.4em 0.5em 0.4em;box-sizing: border-box;padding-bottom: 0.4em;background-color: white;}#sk-container-id-2 div.sk-label label {font-family: monospace;font-weight: bold;display: inline-block;line-height: 1.2em;}#sk-container-id-2 div.sk-label-container {text-align: center;}#sk-container-id-2 div.sk-container {/* jupyter's `normalize.less` sets `[hidden] { display: none; }` but bootstrap.min.css set `[hidden] { display: none !important; }` so we also need the `!important` here to be able to override the default hidden behavior on the sphinx rendered scikit-learn.org. See: https://github.com/scikit-learn/scikit-learn/issues/21755 */display: inline-block !important;position: relative;}#sk-container-id-2 div.sk-text-repr-fallback {display: none;}</style><div id=\"sk-container-id-2\" class=\"sk-top-container\"><div class=\"sk-text-repr-fallback\"><pre>GridSearchCV(estimator=OneClassSVM(kernel=&#x27;poly&#x27;), n_jobs=-1,\n",
       "             param_grid=[{&#x27;degree&#x27;: [2, 3, 4], &#x27;gamma&#x27;: [&#x27;scale&#x27;, &#x27;auto&#x27;, 0.1],\n",
       "                          &#x27;nu&#x27;: [0.001, 0.01]}],\n",
       "             scoring=&#x27;f1&#x27;, verbose=3)</pre><b>In a Jupyter environment, please rerun this cell to show the HTML representation or trust the notebook. <br />On GitHub, the HTML representation is unable to render, please try loading this page with nbviewer.org.</b></div><div class=\"sk-container\" hidden><div class=\"sk-item sk-dashed-wrapped\"><div class=\"sk-label-container\"><div class=\"sk-label sk-toggleable\"><input class=\"sk-toggleable__control sk-hidden--visually\" id=\"sk-estimator-id-4\" type=\"checkbox\" ><label for=\"sk-estimator-id-4\" class=\"sk-toggleable__label sk-toggleable__label-arrow\">GridSearchCV</label><div class=\"sk-toggleable__content\"><pre>GridSearchCV(estimator=OneClassSVM(kernel=&#x27;poly&#x27;), n_jobs=-1,\n",
       "             param_grid=[{&#x27;degree&#x27;: [2, 3, 4], &#x27;gamma&#x27;: [&#x27;scale&#x27;, &#x27;auto&#x27;, 0.1],\n",
       "                          &#x27;nu&#x27;: [0.001, 0.01]}],\n",
       "             scoring=&#x27;f1&#x27;, verbose=3)</pre></div></div></div><div class=\"sk-parallel\"><div class=\"sk-parallel-item\"><div class=\"sk-item\"><div class=\"sk-label-container\"><div class=\"sk-label sk-toggleable\"><input class=\"sk-toggleable__control sk-hidden--visually\" id=\"sk-estimator-id-5\" type=\"checkbox\" ><label for=\"sk-estimator-id-5\" class=\"sk-toggleable__label sk-toggleable__label-arrow\">estimator: OneClassSVM</label><div class=\"sk-toggleable__content\"><pre>OneClassSVM(kernel=&#x27;poly&#x27;)</pre></div></div></div><div class=\"sk-serial\"><div class=\"sk-item\"><div class=\"sk-estimator sk-toggleable\"><input class=\"sk-toggleable__control sk-hidden--visually\" id=\"sk-estimator-id-6\" type=\"checkbox\" ><label for=\"sk-estimator-id-6\" class=\"sk-toggleable__label sk-toggleable__label-arrow\">OneClassSVM</label><div class=\"sk-toggleable__content\"><pre>OneClassSVM(kernel=&#x27;poly&#x27;)</pre></div></div></div></div></div></div></div></div></div></div>"
      ],
      "text/plain": [
       "GridSearchCV(estimator=OneClassSVM(kernel='poly'), n_jobs=-1,\n",
       "             param_grid=[{'degree': [2, 3, 4], 'gamma': ['scale', 'auto', 0.1],\n",
       "                          'nu': [0.001, 0.01]}],\n",
       "             scoring='f1', verbose=3)"
      ]
     },
     "execution_count": 43,
     "metadata": {},
     "output_type": "execute_result"
    }
   ],
   "source": [
    "#params to grid search through\n",
    "param_grid = [\n",
    "   {'nu': [0.001, 0.01], \n",
    "   'gamma': ['scale', 'auto', 0.1],\n",
    "   'degree': [2,3,4]\n",
    "   }\n",
    "]\n",
    "\n",
    "#Verbose indicates the level of output desired during grid search execution, higher means more (it's dumb). It doesn't seem to work though\n",
    "#n_jobs is set to -1, meaning that it will use all processors available to run the grid search faster\n",
    "search = GridSearchCV(estimator=OneClassSVM(kernel='poly'), param_grid= param_grid, scoring = 'f1', verbose= 3, n_jobs=-1)\n",
    "search.fit(x_train,y_train)\n"
   ]
  },
  {
   "cell_type": "code",
   "execution_count": 44,
   "metadata": {},
   "outputs": [
    {
     "name": "stdout",
     "output_type": "stream",
     "text": [
      "{'degree': 2, 'gamma': 'scale', 'nu': 0.001}\n",
      "    mean_fit_time  std_fit_time  mean_score_time  std_score_time param_degree  \\\n",
      "0        5.084579      0.722745         0.224872        0.036444            2   \n",
      "1       36.398026      0.873565         1.463747        0.559063            2   \n",
      "2        5.587369      1.093401         0.305981        0.060711            2   \n",
      "3       38.276191      1.268626         1.438520        0.280943            2   \n",
      "4        5.991043      0.579889         0.338076        0.033605            2   \n",
      "5       35.738123      1.370767         1.959844        0.335767            2   \n",
      "6        5.682433      0.854755         0.276370        0.039397            3   \n",
      "7       38.696854      2.462547         1.912894        0.336341            3   \n",
      "8        6.178154      1.033592         0.338661        0.072811            3   \n",
      "9       37.845771      2.904658         1.865541        0.396649            3   \n",
      "10       6.357777      0.941626         0.344685        0.090771            3   \n",
      "11      37.370937      2.264850         1.934779        0.355652            3   \n",
      "12       5.980625      0.320446         0.326893        0.044776            4   \n",
      "13      37.955990      1.217643         1.902023        0.305103            4   \n",
      "14       6.018609      1.037195         0.343308        0.079841            4   \n",
      "15      35.381358      1.684581         1.175092        0.467768            4   \n",
      "16       6.188060      0.717551         0.320372        0.060090            4   \n",
      "17      25.795242      0.902677         0.286149        0.089215            4   \n",
      "\n",
      "   param_gamma param_nu                                        params  \\\n",
      "0        scale    0.001  {'degree': 2, 'gamma': 'scale', 'nu': 0.001}   \n",
      "1        scale     0.01   {'degree': 2, 'gamma': 'scale', 'nu': 0.01}   \n",
      "2         auto    0.001   {'degree': 2, 'gamma': 'auto', 'nu': 0.001}   \n",
      "3         auto     0.01    {'degree': 2, 'gamma': 'auto', 'nu': 0.01}   \n",
      "4          0.1    0.001      {'degree': 2, 'gamma': 0.1, 'nu': 0.001}   \n",
      "5          0.1     0.01       {'degree': 2, 'gamma': 0.1, 'nu': 0.01}   \n",
      "6        scale    0.001  {'degree': 3, 'gamma': 'scale', 'nu': 0.001}   \n",
      "7        scale     0.01   {'degree': 3, 'gamma': 'scale', 'nu': 0.01}   \n",
      "8         auto    0.001   {'degree': 3, 'gamma': 'auto', 'nu': 0.001}   \n",
      "9         auto     0.01    {'degree': 3, 'gamma': 'auto', 'nu': 0.01}   \n",
      "10         0.1    0.001      {'degree': 3, 'gamma': 0.1, 'nu': 0.001}   \n",
      "11         0.1     0.01       {'degree': 3, 'gamma': 0.1, 'nu': 0.01}   \n",
      "12       scale    0.001  {'degree': 4, 'gamma': 'scale', 'nu': 0.001}   \n",
      "13       scale     0.01   {'degree': 4, 'gamma': 'scale', 'nu': 0.01}   \n",
      "14        auto    0.001   {'degree': 4, 'gamma': 'auto', 'nu': 0.001}   \n",
      "15        auto     0.01    {'degree': 4, 'gamma': 'auto', 'nu': 0.01}   \n",
      "16         0.1    0.001      {'degree': 4, 'gamma': 0.1, 'nu': 0.001}   \n",
      "17         0.1     0.01       {'degree': 4, 'gamma': 0.1, 'nu': 0.01}   \n",
      "\n",
      "    split0_test_score  split1_test_score  split2_test_score  \\\n",
      "0                 NaN                NaN                NaN   \n",
      "1                 NaN                NaN                NaN   \n",
      "2                 NaN                NaN                NaN   \n",
      "3                 NaN                NaN                NaN   \n",
      "4                 NaN                NaN                NaN   \n",
      "5                 NaN                NaN                NaN   \n",
      "6                 NaN                NaN                NaN   \n",
      "7                 NaN                NaN                NaN   \n",
      "8                 NaN                NaN                NaN   \n",
      "9                 NaN                NaN                NaN   \n",
      "10                NaN                NaN                NaN   \n",
      "11                NaN                NaN                NaN   \n",
      "12                NaN                NaN                NaN   \n",
      "13                NaN                NaN                NaN   \n",
      "14                NaN                NaN                NaN   \n",
      "15                NaN                NaN                NaN   \n",
      "16                NaN                NaN                NaN   \n",
      "17                NaN                NaN                NaN   \n",
      "\n",
      "    split3_test_score  split4_test_score  mean_test_score  std_test_score  \\\n",
      "0                 NaN                NaN              NaN             NaN   \n",
      "1                 NaN                NaN              NaN             NaN   \n",
      "2                 NaN                NaN              NaN             NaN   \n",
      "3                 NaN                NaN              NaN             NaN   \n",
      "4                 NaN                NaN              NaN             NaN   \n",
      "5                 NaN                NaN              NaN             NaN   \n",
      "6                 NaN                NaN              NaN             NaN   \n",
      "7                 NaN                NaN              NaN             NaN   \n",
      "8                 NaN                NaN              NaN             NaN   \n",
      "9                 NaN                NaN              NaN             NaN   \n",
      "10                NaN                NaN              NaN             NaN   \n",
      "11                NaN                NaN              NaN             NaN   \n",
      "12                NaN                NaN              NaN             NaN   \n",
      "13                NaN                NaN              NaN             NaN   \n",
      "14                NaN                NaN              NaN             NaN   \n",
      "15                NaN                NaN              NaN             NaN   \n",
      "16                NaN                NaN              NaN             NaN   \n",
      "17                NaN                NaN              NaN             NaN   \n",
      "\n",
      "    rank_test_score  \n",
      "0                 1  \n",
      "1                16  \n",
      "2                15  \n",
      "3                14  \n",
      "4                13  \n",
      "5                12  \n",
      "6                11  \n",
      "7                10  \n",
      "8                 9  \n",
      "9                 8  \n",
      "10                7  \n",
      "11                6  \n",
      "12                5  \n",
      "13                4  \n",
      "14                3  \n",
      "15                2  \n",
      "16               17  \n",
      "17               18  \n"
     ]
    }
   ],
   "source": [
    "print(search.best_params_)\n",
    "print(pd.DataFrame(search.cv_results_))"
   ]
  },
  {
   "cell_type": "markdown",
   "metadata": {},
   "source": [
    "### Testing the best OCSVM model\n",
    "Using the best OCSVM model that was found using Grid Search"
   ]
  },
  {
   "cell_type": "code",
   "execution_count": 45,
   "metadata": {},
   "outputs": [
    {
     "name": "stdout",
     "output_type": "stream",
     "text": [
      "[1 1 1 ... 1 1 1]\n",
      "[False False False ... False False False]\n",
      "Precision: 0.004005149477900157\n",
      "Recall: 1.0\n",
      "F1 Score 0.007978344493517595\n"
     ]
    }
   ],
   "source": [
    "best_preds = search.predict(x_test)\n",
    "print(best_preds)\n",
    "best_preds = np.array(best_preds, dtype=bool)\n",
    "\n",
    "print(y_test)\n",
    "print(\"Precision:\",precision_score(y_test, best_preds))\n",
    "print(\"Recall:\",recall_score(y_test, best_preds))\n",
    "print(\"F1 Score\",f1_score(y_test, best_preds))"
   ]
  }
 ],
 "metadata": {
  "kernelspec": {
   "display_name": "Python 3.10.8 64-bit (microsoft store)",
   "language": "python",
   "name": "python3"
  },
  "language_info": {
   "codemirror_mode": {
    "name": "ipython",
    "version": 3
   },
   "file_extension": ".py",
   "mimetype": "text/x-python",
   "name": "python",
   "nbconvert_exporter": "python",
   "pygments_lexer": "ipython3",
   "version": "3.10.8"
  },
  "orig_nbformat": 4,
  "vscode": {
   "interpreter": {
    "hash": "afba4204878ca03c63ed7efcb60107da2ad8c3ac00701b48d074a447a88689b7"
   }
  }
 },
 "nbformat": 4,
 "nbformat_minor": 2
}
